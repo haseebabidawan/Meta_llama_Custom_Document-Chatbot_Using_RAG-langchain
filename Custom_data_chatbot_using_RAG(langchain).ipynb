{
 "cells": [
  {
   "cell_type": "code",
   "execution_count": 1,
   "metadata": {},
   "outputs": [],
   "source": [
    "# Required imports\n",
    "from langchain import PromptTemplate\n",
    "from langchain.chains import RetrievalQA\n",
    "from langchain.embeddings import HuggingFaceEmbeddings\n",
    "from langchain.document_loaders import PyMuPDFLoader, DirectoryLoader\n",
    "from langchain.text_splitter import RecursiveCharacterTextSplitter\n",
    "from langchain.llms import CTransformers\n",
    "from langchain.vectorstores import Chroma\n",
    "from langchain.llms import Ollama\n",
    "from transformers import AutoModelForCausalLM, AutoTokenizer , TextStreamer, pipeline\n",
    "from langchain import HuggingFaceHub\n",
    "from chromadb import PersistentClient \n",
    "from langchain.llms import HuggingFacePipeline\n",
    "from huggingface_hub import login\n",
    "\n",
    "import os\n",
    "import shutil\n"
   ]
  },
  {
   "cell_type": "markdown",
   "metadata": {},
   "source": [
    "## Initialize Variable"
   ]
  },
  {
   "cell_type": "code",
   "execution_count": 2,
   "metadata": {},
   "outputs": [],
   "source": [
    " # Set up directories and initialize variables\n",
    "data_directory = \"Data/\"\n",
    "persist_directory = \"./db\"\n",
    "# Clear the persist directory if it exists\n",
    "if os.path.exists(persist_directory):\n",
    "    shutil.rmtree(persist_directory)"
   ]
  },
  {
   "cell_type": "markdown",
   "metadata": {},
   "source": [
    "## Load the PDF file "
   ]
  },
  {
   "cell_type": "code",
   "execution_count": 3,
   "metadata": {},
   "outputs": [
    {
     "data": {
      "text/plain": [
       "[Document(metadata={'source': 'Data\\\\The Thirsty Crow.pdf', 'file_path': 'Data\\\\The Thirsty Crow.pdf', 'page': 0, 'total_pages': 1, 'format': 'PDF 1.7', 'title': '', 'author': 'Haseeb Abid', 'subject': '', 'keywords': '', 'creator': 'Microsoft® Word for Microsoft 365', 'producer': 'Microsoft® Word for Microsoft 365', 'creationDate': \"D:20240828150536+05'00'\", 'modDate': \"D:20240828150536+05'00'\", 'trapped': ''}, page_content=\"The Thirsty Crow - Short Stories for Kids \\nIt was a hot summer afternoon. \\nThe crow was very thirsty he flew here and there in search of water, but he couldn't find \\nwater anywhere. As he looked around, all the lakes were dry. He could not see even a drop \\nof water. \\nThe crow decided to fly in another direction. As he flew a mile, He saw a pot lying on the \\nground. \\nThe crow happily flew down to the pot and peaked in with great hope but the water was at \\nthe bottom of the pot. The thirty crow tried hard to put his beak inside the pot but could not \\nreach the water. \\nThe water in the pot was very low. He tried to move the pot but it was heavy. He could not \\neven tilt the pot alone. The crow began thinking of ways to get water from the pot. \\nWhen he looked around, he saw few stones lying on the ground suddenly he had an idea. \\nHe started picking up stones in his beak one by one and dropped them in the pot. \\nAs the stones went down the pot, the water level started to rise. \\nNow the crow was able to drink water. \\nHe drank the water happily and flew back to his tree. \\nMoral Of the Story: Where there's is a Will, there's is a Way. There's always a way - if you're \\ncommitted. - Tony Robbins \\n\")]"
      ]
     },
     "execution_count": 3,
     "metadata": {},
     "output_type": "execute_result"
    }
   ],
   "source": [
    "# Load PDF documents\n",
    "def load_pdf(data_directory):\n",
    "    loader = DirectoryLoader(data_directory, glob=\"*.pdf\", loader_cls=PyMuPDFLoader)\n",
    "    documents = loader.load()\n",
    "    return documents\n",
    "\n",
    "extracted_data = load_pdf(data_directory)\n",
    "\n",
    "extracted_data"
   ]
  },
  {
   "cell_type": "markdown",
   "metadata": {},
   "source": [
    "## Split the Document into chunks"
   ]
  },
  {
   "cell_type": "code",
   "execution_count": 4,
   "metadata": {},
   "outputs": [
    {
     "name": "stdout",
     "output_type": "stream",
     "text": [
      "length of chunks: 3\n"
     ]
    },
    {
     "data": {
      "text/plain": [
       "[Document(metadata={'source': 'Data\\\\The Thirsty Crow.pdf', 'file_path': 'Data\\\\The Thirsty Crow.pdf', 'page': 0, 'total_pages': 1, 'format': 'PDF 1.7', 'title': '', 'author': 'Haseeb Abid', 'subject': '', 'keywords': '', 'creator': 'Microsoft® Word for Microsoft 365', 'producer': 'Microsoft® Word for Microsoft 365', 'creationDate': \"D:20240828150536+05'00'\", 'modDate': \"D:20240828150536+05'00'\", 'trapped': ''}, page_content=\"The Thirsty Crow - Short Stories for Kids \\nIt was a hot summer afternoon. \\nThe crow was very thirsty he flew here and there in search of water, but he couldn't find \\nwater anywhere. As he looked around, all the lakes were dry. He could not see even a drop \\nof water. \\nThe crow decided to fly in another direction. As he flew a mile, He saw a pot lying on the \\nground. \\nThe crow happily flew down to the pot and peaked in with great hope but the water was at\"),\n",
       " Document(metadata={'source': 'Data\\\\The Thirsty Crow.pdf', 'file_path': 'Data\\\\The Thirsty Crow.pdf', 'page': 0, 'total_pages': 1, 'format': 'PDF 1.7', 'title': '', 'author': 'Haseeb Abid', 'subject': '', 'keywords': '', 'creator': 'Microsoft® Word for Microsoft 365', 'producer': 'Microsoft® Word for Microsoft 365', 'creationDate': \"D:20240828150536+05'00'\", 'modDate': \"D:20240828150536+05'00'\", 'trapped': ''}, page_content='the bottom of the pot. The thirty crow tried hard to put his beak inside the pot but could not \\nreach the water. \\nThe water in the pot was very low. He tried to move the pot but it was heavy. He could not \\neven tilt the pot alone. The crow began thinking of ways to get water from the pot. \\nWhen he looked around, he saw few stones lying on the ground suddenly he had an idea. \\nHe started picking up stones in his beak one by one and dropped them in the pot.'),\n",
       " Document(metadata={'source': 'Data\\\\The Thirsty Crow.pdf', 'file_path': 'Data\\\\The Thirsty Crow.pdf', 'page': 0, 'total_pages': 1, 'format': 'PDF 1.7', 'title': '', 'author': 'Haseeb Abid', 'subject': '', 'keywords': '', 'creator': 'Microsoft® Word for Microsoft 365', 'producer': 'Microsoft® Word for Microsoft 365', 'creationDate': \"D:20240828150536+05'00'\", 'modDate': \"D:20240828150536+05'00'\", 'trapped': ''}, page_content=\"As the stones went down the pot, the water level started to rise. \\nNow the crow was able to drink water. \\nHe drank the water happily and flew back to his tree. \\nMoral Of the Story: Where there's is a Will, there's is a Way. There's always a way - if you're \\ncommitted. - Tony Robbins\")]"
      ]
     },
     "execution_count": 4,
     "metadata": {},
     "output_type": "execute_result"
    }
   ],
   "source": [
    "# Split documents into smaller chunks\n",
    "\n",
    "def text_split(extracted_data):\n",
    "    text_splitter = RecursiveCharacterTextSplitter(chunk_size = 500, chunk_overlap = 30)\n",
    "    text_chunks = text_splitter.split_documents(extracted_data)\n",
    "\n",
    "    return text_chunks\n",
    "\n",
    "\n",
    "text_chunks = text_split(extracted_data)\n",
    "print(\"length of chunks:\", len(text_chunks))\n",
    "\n",
    "text_chunks"
   ]
  },
  {
   "cell_type": "markdown",
   "metadata": {},
   "source": [
    "## Download the Embedding to apply on the Chunks of Data"
   ]
  },
  {
   "cell_type": "code",
   "execution_count": 5,
   "metadata": {},
   "outputs": [
    {
     "name": "stderr",
     "output_type": "stream",
     "text": [
      "C:\\Users\\DELL\\AppData\\Local\\Temp\\ipykernel_24628\\3475273723.py:3: LangChainDeprecationWarning: The class `HuggingFaceEmbeddings` was deprecated in LangChain 0.2.2 and will be removed in 1.0. An updated version of the class exists in the :class:`~langchain-huggingface package and should be used instead. To use it run `pip install -U :class:`~langchain-huggingface` and import as `from :class:`~langchain_huggingface import HuggingFaceEmbeddings``.\n",
      "  return HuggingFaceEmbeddings(model_name=\"sentence-transformers/all-MiniLM-L6-v2\")\n"
     ]
    }
   ],
   "source": [
    "# Download Hugging Face embeddings\n",
    "def download_HF_embeddings():\n",
    "    return HuggingFaceEmbeddings(model_name=\"sentence-transformers/all-MiniLM-L6-v2\")\n",
    "\n",
    "embeddings = download_HF_embeddings()"
   ]
  },
  {
   "cell_type": "markdown",
   "metadata": {},
   "source": [
    "## Initialize Chroma DB"
   ]
  },
  {
   "cell_type": "code",
   "execution_count": 6,
   "metadata": {},
   "outputs": [],
   "source": [
    "\n",
    "client = PersistentClient(path=persist_directory)\n",
    "collection = client.create_collection(name=\"API_EXP\")\n",
    "\n",
    "\n",
    "db = Chroma.from_documents(text_chunks, embeddings, persist_directory=persist_directory, client=client)\n",
    "\n",
    "\n",
    "client.delete_collection(\"API_EXP\")"
   ]
  },
  {
   "cell_type": "code",
   "execution_count": 7,
   "metadata": {},
   "outputs": [
    {
     "data": {
      "text/plain": [
       "[(Document(metadata={'author': 'Haseeb Abid', 'creationDate': \"D:20240828150536+05'00'\", 'creator': 'Microsoft® Word for Microsoft 365', 'file_path': 'Data\\\\The Thirsty Crow.pdf', 'format': 'PDF 1.7', 'keywords': '', 'modDate': \"D:20240828150536+05'00'\", 'page': 0, 'producer': 'Microsoft® Word for Microsoft 365', 'source': 'Data\\\\The Thirsty Crow.pdf', 'subject': '', 'title': '', 'total_pages': 1, 'trapped': ''}, page_content=\"The Thirsty Crow - Short Stories for Kids \\nIt was a hot summer afternoon. \\nThe crow was very thirsty he flew here and there in search of water, but he couldn't find \\nwater anywhere. As he looked around, all the lakes were dry. He could not see even a drop \\nof water. \\nThe crow decided to fly in another direction. As he flew a mile, He saw a pot lying on the \\nground. \\nThe crow happily flew down to the pot and peaked in with great hope but the water was at\"),\n",
       "  0.8898072261132589),\n",
       " (Document(metadata={'author': 'Haseeb Abid', 'creationDate': \"D:20240828150536+05'00'\", 'creator': 'Microsoft® Word for Microsoft 365', 'file_path': 'Data\\\\The Thirsty Crow.pdf', 'format': 'PDF 1.7', 'keywords': '', 'modDate': \"D:20240828150536+05'00'\", 'page': 0, 'producer': 'Microsoft® Word for Microsoft 365', 'source': 'Data\\\\The Thirsty Crow.pdf', 'subject': '', 'title': '', 'total_pages': 1, 'trapped': ''}, page_content='the bottom of the pot. The thirty crow tried hard to put his beak inside the pot but could not \\nreach the water. \\nThe water in the pot was very low. He tried to move the pot but it was heavy. He could not \\neven tilt the pot alone. The crow began thinking of ways to get water from the pot. \\nWhen he looked around, he saw few stones lying on the ground suddenly he had an idea. \\nHe started picking up stones in his beak one by one and dropped them in the pot.'),\n",
       "  0.9931647130340752)]"
      ]
     },
     "execution_count": 7,
     "metadata": {},
     "output_type": "execute_result"
    }
   ],
   "source": [
    "query = \"What is the crow looking for?\"\n",
    "\n",
    "matching_docs = db.similarity_search_with_score(query, k=2)\n",
    "matching_docs"
   ]
  },
  {
   "cell_type": "markdown",
   "metadata": {},
   "source": [
    "## Create a Proper Template"
   ]
  },
  {
   "cell_type": "code",
   "execution_count": 8,
   "metadata": {},
   "outputs": [],
   "source": [
    "# Prompt template for detailed QA\n",
    "query = \"What is the crow looking for?\"\n",
    "\n",
    "\n",
    "prompt_template=\"\"\"\n",
    "Use the following pieces of information to answer the user's question.\n",
    "If you don't know the answer, just say that you don't know, don't try to make up an answer.\n",
    "\n",
    "Context: {context}\n",
    "Question: {question}\n",
    "\n",
    "Only return the helpful answer below and nothing else.\n",
    "Helpful answer:\n",
    "\"\"\"\n",
    "\n",
    "\n",
    "PROMPT = PromptTemplate(template=prompt_template, input_variables=[\"context\", \"question\"])\n",
    "chain_type_kwargs = {\n",
    "    \"prompt\": PROMPT\n",
    "}\n"
   ]
  },
  {
   "cell_type": "markdown",
   "metadata": {},
   "source": [
    "## Login using Hugging Face API key"
   ]
  },
  {
   "cell_type": "code",
   "execution_count": 9,
   "metadata": {},
   "outputs": [
    {
     "data": {
      "application/vnd.jupyter.widget-view+json": {
       "model_id": "0fc0350c2c30419fbd998a2ce71bd24b",
       "version_major": 2,
       "version_minor": 0
      },
      "text/plain": [
       "VBox(children=(HTML(value='<center> <img\\nsrc=https://huggingface.co/front/assets/huggingface_logo-noborder.sv…"
      ]
     },
     "metadata": {},
     "output_type": "display_data"
    }
   ],
   "source": [
    "login()"
   ]
  },
  {
   "cell_type": "markdown",
   "metadata": {},
   "source": [
    "## Download the Model from the Hugging Face"
   ]
  },
  {
   "cell_type": "code",
   "execution_count": null,
   "metadata": {},
   "outputs": [
    {
     "data": {
      "application/vnd.jupyter.widget-view+json": {
       "model_id": "839bdc0a3ac04047b20d87ae574f0e79",
       "version_major": 2,
       "version_minor": 0
      },
      "text/plain": [
       "Loading checkpoint shards:   0%|          | 0/4 [00:00<?, ?it/s]"
      ]
     },
     "metadata": {},
     "output_type": "display_data"
    },
    {
     "name": "stderr",
     "output_type": "stream",
     "text": [
      "Some parameters are on the meta device because they were offloaded to the disk and cpu.\n"
     ]
    }
   ],
   "source": [
    "\n",
    "cache_dir='D:/huggingface_models'\n",
    "\n",
    "model = \"meta-llama/Llama-3.1-8B\"\n",
    "\n",
    "\n",
    "tokenizer = AutoTokenizer.from_pretrained(model)\n",
    "model = AutoModelForCausalLM.from_pretrained(model,cache_dir=cache_dir , device_map=\"auto\")\n"
   ]
  },
  {
   "cell_type": "markdown",
   "metadata": {},
   "source": [
    "## Create a pipeline "
   ]
  },
  {
   "cell_type": "code",
   "execution_count": 11,
   "metadata": {},
   "outputs": [
    {
     "name": "stderr",
     "output_type": "stream",
     "text": [
      "C:\\Users\\DELL\\AppData\\Local\\Temp\\ipykernel_24628\\4117352655.py:14: LangChainDeprecationWarning: The class `HuggingFacePipeline` was deprecated in LangChain 0.0.37 and will be removed in 1.0. An updated version of the class exists in the :class:`~langchain-huggingface package and should be used instead. To use it run `pip install -U :class:`~langchain-huggingface` and import as `from :class:`~langchain_huggingface import HuggingFacePipeline``.\n",
      "  local_llm = HuggingFacePipeline(pipeline=pipeline )\n"
     ]
    }
   ],
   "source": [
    "streamer = TextStreamer(tokenizer) # to stream the output\n",
    "\n",
    "pipeline = pipeline(\"text-generation\" , \n",
    "            model=model , \n",
    "            tokenizer= tokenizer ,\n",
    "            streamer = streamer,\n",
    "            max_length=500,\n",
    "            # temperature=0.1,\n",
    "            # pad_token_id=tokenizer.eos_token_id,\n",
    "            # top_p=0.95,\n",
    "            # repetition_penalty=1.2\n",
    "            )\n",
    "\n",
    "local_llm = HuggingFacePipeline(pipeline=pipeline )"
   ]
  },
  {
   "cell_type": "markdown",
   "metadata": {},
   "source": [
    "## Define the Question Answer Retrieval "
   ]
  },
  {
   "cell_type": "code",
   "execution_count": 14,
   "metadata": {},
   "outputs": [],
   "source": [
    " # Retreieve the context and model\n",
    " qa = RetrievalQA.from_chain_type(\n",
    "        llm=local_llm,\n",
    "        chain_type=\"stuff\",\n",
    "        retriever=db.as_retriever(),\n",
    "        chain_type_kwargs= chain_type_kwargs\n",
    "    )"
   ]
  },
  {
   "cell_type": "markdown",
   "metadata": {},
   "source": [
    "## Query the Model to get Response"
   ]
  },
  {
   "cell_type": "code",
   "execution_count": 13,
   "metadata": {},
   "outputs": [
    {
     "name": "stderr",
     "output_type": "stream",
     "text": [
      "C:\\Users\\DELL\\AppData\\Local\\Temp\\ipykernel_24628\\1878533721.py:4: LangChainDeprecationWarning: The method `Chain.run` was deprecated in langchain 0.1.0 and will be removed in 1.0. Use :meth:`~invoke` instead.\n",
      "  qa.run(query)\n",
      "Number of requested results 4 is greater than number of elements in index 3, updating n_results = 3\n",
      "Truncation was not explicitly activated but `max_length` is provided a specific value, please use `truncation=True` to explicitly truncate examples to max length. Defaulting to 'longest_first' truncation strategy. If you encode pairs of sequences (GLUE-style) with the tokenizer you can select this strategy more precisely by providing a specific strategy to `truncation`.\n",
      "Setting `pad_token_id` to `eos_token_id`:None for open-end generation.\n"
     ]
    },
    {
     "name": "stdout",
     "output_type": "stream",
     "text": [
      "<|begin_of_text|>\n",
      "Use the following pieces of information to answer the user's question.\n",
      "If you don't know the answer, just say that you don't know, don't try to make up an answer.\n",
      "\n",
      "Context: The Thirsty Crow - Short Stories for Kids \n",
      "It was a hot summer afternoon. \n",
      "The crow was very thirsty he flew here and there in search of water, but he couldn't find \n",
      "water anywhere. As he looked around, all the lakes were dry. He could not see even a drop \n",
      "of water. \n",
      "The crow decided to fly in another direction. As he flew a mile, He saw a pot lying on the \n",
      "ground. \n",
      "The crow happily flew down to the pot and peaked in with great hope but the water was at\n",
      "\n",
      "the bottom of the pot. The thirty crow tried hard to put his beak inside the pot but could not \n",
      "reach the water. \n",
      "The water in the pot was very low. He tried to move the pot but it was heavy. He could not \n",
      "even tilt the pot alone. The crow began thinking of ways to get water from the pot. \n",
      "When he looked around, he saw few stones lying on the ground suddenly he had an idea. \n",
      "He started picking up stones in his beak one by one and dropped them in the pot.\n",
      "\n",
      "As the stones went down the pot, the water level started to rise. \n",
      "Now the crow was able to drink water. \n",
      "He drank the water happily and flew back to his tree. \n",
      "Moral Of the Story: Where there's is a Will, there's is a Way. There's always a way - if you're \n",
      "committed. - Tony Robbins\n",
      "Question: What is the crow looking for?\n",
      "\n",
      "Only return the helpful answer below and nothing else.\n",
      "Helpful answer:\n",
      "The crow is looking for water.\n",
      "\n",
      "<|end_of_text|>\n"
     ]
    },
    {
     "data": {
      "text/plain": [
       "\"\\nUse the following pieces of information to answer the user's question.\\nIf you don't know the answer, just say that you don't know, don't try to make up an answer.\\n\\nContext: The Thirsty Crow - Short Stories for Kids \\nIt was a hot summer afternoon. \\nThe crow was very thirsty he flew here and there in search of water, but he couldn't find \\nwater anywhere. As he looked around, all the lakes were dry. He could not see even a drop \\nof water. \\nThe crow decided to fly in another direction. As he flew a mile, He saw a pot lying on the \\nground. \\nThe crow happily flew down to the pot and peaked in with great hope but the water was at\\n\\nthe bottom of the pot. The thirty crow tried hard to put his beak inside the pot but could not \\nreach the water. \\nThe water in the pot was very low. He tried to move the pot but it was heavy. He could not \\neven tilt the pot alone. The crow began thinking of ways to get water from the pot. \\nWhen he looked around, he saw few stones lying on the ground suddenly he had an idea. \\nHe started picking up stones in his beak one by one and dropped them in the pot.\\n\\nAs the stones went down the pot, the water level started to rise. \\nNow the crow was able to drink water. \\nHe drank the water happily and flew back to his tree. \\nMoral Of the Story: Where there's is a Will, there's is a Way. There's always a way - if you're \\ncommitted. - Tony Robbins\\nQuestion: What is the crow looking for?\\n\\nOnly return the helpful answer below and nothing else.\\nHelpful answer:\\nThe crow is looking for water.\\n\\n\""
      ]
     },
     "execution_count": 13,
     "metadata": {},
     "output_type": "execute_result"
    }
   ],
   "source": [
    "# Loop to take user input and provide response\n",
    "# query = \"what did the crow do to raise the water level\"\n",
    "\n",
    "qa.run(query)"
   ]
  }
 ],
 "metadata": {
  "kernelspec": {
   "display_name": "mychatbot",
   "language": "python",
   "name": "python3"
  },
  "language_info": {
   "codemirror_mode": {
    "name": "ipython",
    "version": 3
   },
   "file_extension": ".py",
   "mimetype": "text/x-python",
   "name": "python",
   "nbconvert_exporter": "python",
   "pygments_lexer": "ipython3",
   "version": "3.12.7"
  }
 },
 "nbformat": 4,
 "nbformat_minor": 4
}
